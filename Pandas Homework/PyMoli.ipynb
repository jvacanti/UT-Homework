{
 "cells": [
  {
   "cell_type": "markdown",
   "metadata": {},
   "source": [
    "\n",
    "# Heroes Of Pymoli Data Analysis - J Vacanti"
   ]
  },
  {
   "cell_type": "markdown",
   "metadata": {},
   "source": [
    "### Insights\n",
    "#### 1. The vast majority of players are males (81%) and male playes also have the highest average purchase price.\n",
    "#### 2. Players in the 20-24 age group have the highest number of players and highest total purchase value. \n",
    "#### 3. The Retribution Axe is one of the most popular and profitable items"
   ]
  },
  {
   "cell_type": "code",
   "execution_count": 1,
   "metadata": {
    "collapsed": true
   },
   "outputs": [],
   "source": [
    "# Dependencies\n",
    "import pandas as pd\n",
    "import os"
   ]
  },
  {
   "cell_type": "code",
   "execution_count": 2,
   "metadata": {
    "collapsed": true
   },
   "outputs": [],
   "source": [
    "file_one = os.path.join(\"Resources\", \"purchase_data.json\")\n",
    "#file_tow = os.path.join(\"Resources\", \"purchase_data2.json\")"
   ]
  },
  {
   "cell_type": "code",
   "execution_count": 3,
   "metadata": {
    "collapsed": true
   },
   "outputs": [],
   "source": [
    "file_one_df = pd.read_json(file_one, encoding = \"ISO-8859-1\")\n",
    "#file_two_df = pd.read_json(file_tow, encoding = \"ISO-8859-1\")"
   ]
  },
  {
   "cell_type": "code",
   "execution_count": 4,
   "metadata": {},
   "outputs": [],
   "source": [
    "#file_one_df.head()"
   ]
  },
  {
   "cell_type": "code",
   "execution_count": 5,
   "metadata": {
    "collapsed": true
   },
   "outputs": [],
   "source": [
    "#file_two_df.head()"
   ]
  },
  {
   "cell_type": "code",
   "execution_count": 6,
   "metadata": {},
   "outputs": [],
   "source": [
    "# Append the files\n",
    "merged_df = file_one_df\n",
    "#merged_df.head()"
   ]
  },
  {
   "cell_type": "code",
   "execution_count": 7,
   "metadata": {
    "collapsed": true
   },
   "outputs": [],
   "source": [
    "# Total Unique Players\n",
    "UniquePlayerCount = merged_df[\"SN\"].value_counts()"
   ]
  },
  {
   "cell_type": "markdown",
   "metadata": {},
   "source": [
    "## Player Count"
   ]
  },
  {
   "cell_type": "code",
   "execution_count": 8,
   "metadata": {},
   "outputs": [
    {
     "data": {
      "text/html": [
       "<div>\n",
       "<style scoped>\n",
       "    .dataframe tbody tr th:only-of-type {\n",
       "        vertical-align: middle;\n",
       "    }\n",
       "\n",
       "    .dataframe tbody tr th {\n",
       "        vertical-align: top;\n",
       "    }\n",
       "\n",
       "    .dataframe thead th {\n",
       "        text-align: right;\n",
       "    }\n",
       "</style>\n",
       "<table border=\"1\" class=\"dataframe\">\n",
       "  <thead>\n",
       "    <tr style=\"text-align: right;\">\n",
       "      <th></th>\n",
       "      <th>Total Players</th>\n",
       "    </tr>\n",
       "  </thead>\n",
       "  <tbody>\n",
       "    <tr>\n",
       "      <th>0</th>\n",
       "      <td>573</td>\n",
       "    </tr>\n",
       "  </tbody>\n",
       "</table>\n",
       "</div>"
      ],
      "text/plain": [
       "   Total Players\n",
       "0            573"
      ]
     },
     "execution_count": 8,
     "metadata": {},
     "output_type": "execute_result"
    }
   ],
   "source": [
    "# Count of Unique Players\n",
    "TotalPlayers = UniquePlayerCount.count()\n",
    "TotalPlayers_df = pd.DataFrame({\"Total Players\":[TotalPlayers]})\n",
    "TotalPlayers_df"
   ]
  },
  {
   "cell_type": "markdown",
   "metadata": {},
   "source": [
    "## Purchasing Analysis"
   ]
  },
  {
   "cell_type": "code",
   "execution_count": 9,
   "metadata": {
    "collapsed": true
   },
   "outputs": [],
   "source": [
    "# Unique item count\n",
    "UniqueItemCount = merged_df[\"Item ID\"].value_counts()"
   ]
  },
  {
   "cell_type": "code",
   "execution_count": 10,
   "metadata": {
    "collapsed": true
   },
   "outputs": [],
   "source": [
    "# Total unique items\n",
    "TotalUnique = UniqueItemCount.count()\n",
    "\n",
    "TotalUnique_df = pd.DataFrame({\"Total Unique Items\":[TotalUnique]})"
   ]
  },
  {
   "cell_type": "code",
   "execution_count": 11,
   "metadata": {
    "collapsed": true
   },
   "outputs": [],
   "source": [
    "# Avg purchase price\n",
    "avg_price = merged_df[\"Price\"].mean()\n"
   ]
  },
  {
   "cell_type": "code",
   "execution_count": 12,
   "metadata": {
    "collapsed": true
   },
   "outputs": [],
   "source": [
    "#No. of Purchases\n",
    "NoOfPurchases = merged_df[\"Gender\"].count()"
   ]
  },
  {
   "cell_type": "code",
   "execution_count": 13,
   "metadata": {
    "collapsed": true
   },
   "outputs": [],
   "source": [
    "#Total Revenue\n",
    "TotalRev = merged_df[\"Price\"].sum()"
   ]
  },
  {
   "cell_type": "code",
   "execution_count": 14,
   "metadata": {},
   "outputs": [
    {
     "data": {
      "text/html": [
       "<div>\n",
       "<style scoped>\n",
       "    .dataframe tbody tr th:only-of-type {\n",
       "        vertical-align: middle;\n",
       "    }\n",
       "\n",
       "    .dataframe tbody tr th {\n",
       "        vertical-align: top;\n",
       "    }\n",
       "\n",
       "    .dataframe thead th {\n",
       "        text-align: right;\n",
       "    }\n",
       "</style>\n",
       "<table border=\"1\" class=\"dataframe\">\n",
       "  <thead>\n",
       "    <tr style=\"text-align: right;\">\n",
       "      <th></th>\n",
       "      <th>Avg Puchase Price</th>\n",
       "      <th>No. of Purchases</th>\n",
       "      <th>Number of Unique Items</th>\n",
       "      <th>Total Revenue</th>\n",
       "    </tr>\n",
       "  </thead>\n",
       "  <tbody>\n",
       "    <tr>\n",
       "      <th>0</th>\n",
       "      <td>2.93</td>\n",
       "      <td>780</td>\n",
       "      <td>183</td>\n",
       "      <td>2286.33</td>\n",
       "    </tr>\n",
       "  </tbody>\n",
       "</table>\n",
       "</div>"
      ],
      "text/plain": [
       "   Avg Puchase Price  No. of Purchases  Number of Unique Items  Total Revenue\n",
       "0               2.93               780                     183        2286.33"
      ]
     },
     "execution_count": 14,
     "metadata": {},
     "output_type": "execute_result"
    }
   ],
   "source": [
    "purchase_analysis_df = pd.DataFrame({\"Number of Unique Items\":[TotalUnique],\n",
    "                                 \"Avg Puchase Price\":[avg_price],\n",
    "                                    \"Total Revenue\":[TotalRev],\n",
    "                                    \"No. of Purchases\":[NoOfPurchases]})\n",
    "purchase_analysis_df.round(2)"
   ]
  },
  {
   "cell_type": "markdown",
   "metadata": {},
   "source": [
    "## Gender Demographics"
   ]
  },
  {
   "cell_type": "code",
   "execution_count": 15,
   "metadata": {
    "collapsed": true
   },
   "outputs": [],
   "source": [
    "# Create DF removing duplicate screen names to accurate counts\n",
    "deduped_df = merged_df.drop_duplicates(\"SN\")"
   ]
  },
  {
   "cell_type": "code",
   "execution_count": 16,
   "metadata": {
    "collapsed": true
   },
   "outputs": [],
   "source": [
    "#Total Count Male and Female\n",
    "count = deduped_df[\"Gender\"].value_counts()"
   ]
  },
  {
   "cell_type": "code",
   "execution_count": 17,
   "metadata": {
    "collapsed": true
   },
   "outputs": [],
   "source": [
    "# Filter DF by Gender\n",
    "male_df = deduped_df.loc[deduped_df[\"Gender\"] == \"Male\",:]\n",
    "female_df = deduped_df.loc[deduped_df[\"Gender\"] == \"Female\",:]\n",
    "NA_df = deduped_df.loc[deduped_df[\"Gender\"] == \"Other / Non-Disclosed\",:]"
   ]
  },
  {
   "cell_type": "code",
   "execution_count": 18,
   "metadata": {
    "collapsed": true
   },
   "outputs": [],
   "source": [
    "# Counts of each gender\n",
    "count_male = male_df[\"Gender\"].count()\n",
    "count_female = female_df[\"Gender\"].count()\n",
    "count_NA = NA_df[\"Gender\"].count()"
   ]
  },
  {
   "cell_type": "code",
   "execution_count": 19,
   "metadata": {
    "collapsed": true
   },
   "outputs": [],
   "source": [
    "# Percentages of each gender\n",
    "male_percent = count_male/TotalPlayers\n",
    "female_percent = count_female/TotalPlayers\n",
    "NA_percent = count_NA/TotalPlayers"
   ]
  },
  {
   "cell_type": "code",
   "execution_count": 20,
   "metadata": {},
   "outputs": [],
   "source": [
    "# Gender Demographics dataframe\n",
    "gender_df = pd.DataFrame({\n",
    "    \"Gender\":[\"Male\", \"Female\", \"Other/Non-Disclosed\"],\n",
    "    \"Percentage of Players\":[male_percent, female_percent, NA_percent],\n",
    "    \"Total Count\":[count_male, count_female, count_NA]\n",
    "})\n",
    "#gender_df"
   ]
  },
  {
   "cell_type": "code",
   "execution_count": 21,
   "metadata": {},
   "outputs": [
    {
     "data": {
      "text/html": [
       "<div>\n",
       "<style scoped>\n",
       "    .dataframe tbody tr th:only-of-type {\n",
       "        vertical-align: middle;\n",
       "    }\n",
       "\n",
       "    .dataframe tbody tr th {\n",
       "        vertical-align: top;\n",
       "    }\n",
       "\n",
       "    .dataframe thead th {\n",
       "        text-align: right;\n",
       "    }\n",
       "</style>\n",
       "<table border=\"1\" class=\"dataframe\">\n",
       "  <thead>\n",
       "    <tr style=\"text-align: right;\">\n",
       "      <th></th>\n",
       "      <th>Gender</th>\n",
       "      <th>Percentage of Players</th>\n",
       "      <th>Total Count</th>\n",
       "    </tr>\n",
       "  </thead>\n",
       "  <tbody>\n",
       "    <tr>\n",
       "      <th>0</th>\n",
       "      <td>Male</td>\n",
       "      <td>81.15%</td>\n",
       "      <td>465</td>\n",
       "    </tr>\n",
       "    <tr>\n",
       "      <th>1</th>\n",
       "      <td>Female</td>\n",
       "      <td>17.45%</td>\n",
       "      <td>100</td>\n",
       "    </tr>\n",
       "    <tr>\n",
       "      <th>2</th>\n",
       "      <td>Other/Non-Disclosed</td>\n",
       "      <td>1.40%</td>\n",
       "      <td>8</td>\n",
       "    </tr>\n",
       "  </tbody>\n",
       "</table>\n",
       "</div>"
      ],
      "text/plain": [
       "                Gender Percentage of Players  Total Count\n",
       "0                 Male                81.15%          465\n",
       "1               Female                17.45%          100\n",
       "2  Other/Non-Disclosed                 1.40%            8"
      ]
     },
     "execution_count": 21,
     "metadata": {},
     "output_type": "execute_result"
    }
   ],
   "source": [
    "gender_final = gender_df\n",
    "gender_final[\"Percentage of Players\"] = pd.Series([\"{0:.2f}%\".format(val * 100) for val in gender_df[\"Percentage of Players\"]], index = gender_df.index)\n",
    "gender_final"
   ]
  },
  {
   "cell_type": "markdown",
   "metadata": {},
   "source": [
    "## Purchasing Analysis (Gender)"
   ]
  },
  {
   "cell_type": "code",
   "execution_count": 22,
   "metadata": {
    "collapsed": true
   },
   "outputs": [],
   "source": [
    "# This analysis uses the entire data set rather than the one deduped by SN used for Gender Demographics Analysis. \n",
    "male2_df = merged_df.loc[merged_df[\"Gender\"] == \"Male\",:]\n",
    "female2_df = merged_df.loc[merged_df[\"Gender\"] == \"Female\",:]\n",
    "NA2_df = merged_df.loc[merged_df[\"Gender\"] == \"Other / Non-Disclosed\",:]"
   ]
  },
  {
   "cell_type": "code",
   "execution_count": 23,
   "metadata": {
    "collapsed": true
   },
   "outputs": [],
   "source": [
    "# Purchase count by gender\n",
    "F_PurchaseCount = female2_df[\"Gender\"].count()\n",
    "M_PurchaseCount = male2_df[\"Gender\"].count()\n",
    "NA_PurchaseCount = NA2_df[\"Gender\"].count()"
   ]
  },
  {
   "cell_type": "code",
   "execution_count": 24,
   "metadata": {
    "collapsed": true
   },
   "outputs": [],
   "source": [
    "# Avg purchase price\n",
    "F_AvgPurchasePrice = female2_df[\"Price\"].mean()\n",
    "M_AvgPurchasePrice = male2_df[\"Price\"].mean()\n",
    "NA_AvgPurchasePrice = NA2_df[\"Price\"].mean()"
   ]
  },
  {
   "cell_type": "code",
   "execution_count": 25,
   "metadata": {
    "collapsed": true
   },
   "outputs": [],
   "source": [
    "#Total purchase value\n",
    "F_PurchaseValue = female2_df[\"Price\"].sum()\n",
    "M_PurchaseValue = male2_df[\"Price\"].sum()\n",
    "NA_PurchaseValue = NA2_df[\"Price\"].sum()"
   ]
  },
  {
   "cell_type": "code",
   "execution_count": 26,
   "metadata": {
    "collapsed": true
   },
   "outputs": [],
   "source": [
    "# Normalized is purchase value divided by count of gender\n",
    "F_normalized = F_PurchaseValue/count_female\n",
    "M_normalized = M_PurchaseValue/count_male\n",
    "NA_normalized = NA_PurchaseValue/count_NA"
   ]
  },
  {
   "cell_type": "code",
   "execution_count": 27,
   "metadata": {},
   "outputs": [
    {
     "data": {
      "text/html": [
       "<div>\n",
       "<style scoped>\n",
       "    .dataframe tbody tr th:only-of-type {\n",
       "        vertical-align: middle;\n",
       "    }\n",
       "\n",
       "    .dataframe tbody tr th {\n",
       "        vertical-align: top;\n",
       "    }\n",
       "\n",
       "    .dataframe thead th {\n",
       "        text-align: right;\n",
       "    }\n",
       "</style>\n",
       "<table border=\"1\" class=\"dataframe\">\n",
       "  <thead>\n",
       "    <tr style=\"text-align: right;\">\n",
       "      <th></th>\n",
       "      <th>Gender</th>\n",
       "      <th>Normalized Totals</th>\n",
       "      <th>Purchase Count</th>\n",
       "      <th>Purchase Price (Avg)</th>\n",
       "      <th>Total Purchase Value</th>\n",
       "    </tr>\n",
       "  </thead>\n",
       "  <tbody>\n",
       "    <tr>\n",
       "      <th>0</th>\n",
       "      <td>Male</td>\n",
       "      <td>4.02</td>\n",
       "      <td>633</td>\n",
       "      <td>2.95</td>\n",
       "      <td>1867.68</td>\n",
       "    </tr>\n",
       "    <tr>\n",
       "      <th>1</th>\n",
       "      <td>Female</td>\n",
       "      <td>3.83</td>\n",
       "      <td>136</td>\n",
       "      <td>2.82</td>\n",
       "      <td>382.91</td>\n",
       "    </tr>\n",
       "    <tr>\n",
       "      <th>2</th>\n",
       "      <td>Other/Non-Disclosed</td>\n",
       "      <td>4.47</td>\n",
       "      <td>11</td>\n",
       "      <td>3.25</td>\n",
       "      <td>35.74</td>\n",
       "    </tr>\n",
       "  </tbody>\n",
       "</table>\n",
       "</div>"
      ],
      "text/plain": [
       "                Gender  Normalized Totals  Purchase Count  \\\n",
       "0                 Male               4.02             633   \n",
       "1               Female               3.83             136   \n",
       "2  Other/Non-Disclosed               4.47              11   \n",
       "\n",
       "   Purchase Price (Avg)  Total Purchase Value  \n",
       "0                  2.95               1867.68  \n",
       "1                  2.82                382.91  \n",
       "2                  3.25                 35.74  "
      ]
     },
     "execution_count": 27,
     "metadata": {},
     "output_type": "execute_result"
    }
   ],
   "source": [
    "PurchasingAnalysis_df = pd.DataFrame({\n",
    "    \"Gender\":[\"Male\", \"Female\", \"Other/Non-Disclosed\"],\n",
    "    \"Purchase Count\":[M_PurchaseCount, F_PurchaseCount, NA_PurchaseCount],\n",
    "    \"Purchase Price (Avg)\":[M_AvgPurchasePrice, F_AvgPurchasePrice, NA_AvgPurchasePrice],\n",
    "    \"Total Purchase Value\":[M_PurchaseValue, F_PurchaseValue, NA_PurchaseValue],\n",
    "    \"Normalized Totals\":[M_normalized, F_normalized, NA_normalized]\n",
    "})\n",
    "PurchasingAnalysis_df.round(2)"
   ]
  },
  {
   "cell_type": "markdown",
   "metadata": {
    "collapsed": true
   },
   "source": [
    "## Age Demographics"
   ]
  },
  {
   "cell_type": "code",
   "execution_count": 28,
   "metadata": {},
   "outputs": [
    {
     "data": {
      "text/plain": [
       "0    35-39\n",
       "1    20-24\n",
       "2    30-34\n",
       "3    20-24\n",
       "4    20-24\n",
       "Name: Age, dtype: category\n",
       "Categories (10, object): [<10 < 10-14 < 15-19 < 20-24 ... 35-39 < 40-44 < 45-49 < >50]"
      ]
     },
     "execution_count": 28,
     "metadata": {},
     "output_type": "execute_result"
    }
   ],
   "source": [
    "# Break age into bins\n",
    "# Find min and max for age range 7-45\n",
    "# merged_df.max()\n",
    "# merged_df.min()\n",
    "bins = [0,10,15,20,25,30,35,40,45,50,100]\n",
    "group_names = [\"<10\",\"10-14\",\"15-19\",\"20-24\",\"25-29\",\"30-34\",\"35-39\",\"40-44\",\"45-49\",\">50\"]\n",
    "pd.cut(merged_df[\"Age\"],bins,labels=group_names).head()"
   ]
  },
  {
   "cell_type": "code",
   "execution_count": 29,
   "metadata": {},
   "outputs": [],
   "source": [
    "merged_df[\"Age Groups\"] = pd.cut(merged_df[\"Age\"],bins,labels=group_names)\n",
    "#merged_df.head()"
   ]
  },
  {
   "cell_type": "code",
   "execution_count": 30,
   "metadata": {},
   "outputs": [],
   "source": [
    "age_summary = merged_df.groupby([\"Age Groups\"])\n",
    "#age_summary.count().head(10)"
   ]
  },
  {
   "cell_type": "code",
   "execution_count": 31,
   "metadata": {},
   "outputs": [],
   "source": [
    "# Purchase count\n",
    "age_final = pd.DataFrame(merged_df[\"Age Groups\"].value_counts())\n",
    "#age_final"
   ]
  },
  {
   "cell_type": "code",
   "execution_count": 32,
   "metadata": {},
   "outputs": [],
   "source": [
    "# Ave purchase price\n",
    "age_final[\"Avg Purchase Price\"] = age_summary[\"Price\"].mean()\n",
    "#age_final"
   ]
  },
  {
   "cell_type": "code",
   "execution_count": 33,
   "metadata": {},
   "outputs": [],
   "source": [
    "# Total purchased value\n",
    "age_final[\"Total Purchase Value\"] = age_summary[\"Price\"].sum()\n",
    "#age_final"
   ]
  },
  {
   "cell_type": "code",
   "execution_count": 34,
   "metadata": {},
   "outputs": [],
   "source": [
    "bins = [0,10,15,20,25,30,35,40,45,50,100]\n",
    "deduped_df = merged_df.drop_duplicates(\"SN\")\n",
    "group_names = [\"<10\",\"10-14\",\"15-19\",\"20-24\",\"25-29\",\"30-34\",\"35-39\",\"40-44\",\"45-49\",\">50\"]\n",
    "pd.cut(deduped_df[\"Age\"],bins,labels=group_names).head()\n",
    "age_count = deduped_df.groupby([\"Age Groups\"])\n",
    "age_count = age_count.count()\n",
    "age_count = age_count"
   ]
  },
  {
   "cell_type": "code",
   "execution_count": 35,
   "metadata": {},
   "outputs": [
    {
     "data": {
      "text/html": [
       "<div>\n",
       "<style scoped>\n",
       "    .dataframe tbody tr th:only-of-type {\n",
       "        vertical-align: middle;\n",
       "    }\n",
       "\n",
       "    .dataframe tbody tr th {\n",
       "        vertical-align: top;\n",
       "    }\n",
       "\n",
       "    .dataframe thead th {\n",
       "        text-align: right;\n",
       "    }\n",
       "</style>\n",
       "<table border=\"1\" class=\"dataframe\">\n",
       "  <thead>\n",
       "    <tr style=\"text-align: right;\">\n",
       "      <th></th>\n",
       "      <th>Purchase Count</th>\n",
       "      <th>Avg Purchase Price</th>\n",
       "      <th>Total Purchase Value</th>\n",
       "      <th>Normalized Totals</th>\n",
       "    </tr>\n",
       "  </thead>\n",
       "  <tbody>\n",
       "    <tr>\n",
       "      <th>20-24</th>\n",
       "      <td>305</td>\n",
       "      <td>2.96</td>\n",
       "      <td>902.61</td>\n",
       "      <td>3.86</td>\n",
       "    </tr>\n",
       "    <tr>\n",
       "      <th>15-19</th>\n",
       "      <td>184</td>\n",
       "      <td>2.87</td>\n",
       "      <td>528.74</td>\n",
       "      <td>3.80</td>\n",
       "    </tr>\n",
       "    <tr>\n",
       "      <th>10-14</th>\n",
       "      <td>78</td>\n",
       "      <td>2.87</td>\n",
       "      <td>224.15</td>\n",
       "      <td>4.15</td>\n",
       "    </tr>\n",
       "    <tr>\n",
       "      <th>25-29</th>\n",
       "      <td>76</td>\n",
       "      <td>2.89</td>\n",
       "      <td>219.82</td>\n",
       "      <td>4.23</td>\n",
       "    </tr>\n",
       "    <tr>\n",
       "      <th>30-34</th>\n",
       "      <td>58</td>\n",
       "      <td>3.07</td>\n",
       "      <td>178.26</td>\n",
       "      <td>4.05</td>\n",
       "    </tr>\n",
       "    <tr>\n",
       "      <th>35-39</th>\n",
       "      <td>44</td>\n",
       "      <td>2.90</td>\n",
       "      <td>127.49</td>\n",
       "      <td>5.10</td>\n",
       "    </tr>\n",
       "    <tr>\n",
       "      <th>&lt;10</th>\n",
       "      <td>32</td>\n",
       "      <td>3.02</td>\n",
       "      <td>96.62</td>\n",
       "      <td>4.39</td>\n",
       "    </tr>\n",
       "    <tr>\n",
       "      <th>40-44</th>\n",
       "      <td>3</td>\n",
       "      <td>2.88</td>\n",
       "      <td>8.64</td>\n",
       "      <td>2.88</td>\n",
       "    </tr>\n",
       "    <tr>\n",
       "      <th>&gt;50</th>\n",
       "      <td>0</td>\n",
       "      <td>NaN</td>\n",
       "      <td>0.00</td>\n",
       "      <td>NaN</td>\n",
       "    </tr>\n",
       "    <tr>\n",
       "      <th>45-49</th>\n",
       "      <td>0</td>\n",
       "      <td>NaN</td>\n",
       "      <td>0.00</td>\n",
       "      <td>NaN</td>\n",
       "    </tr>\n",
       "  </tbody>\n",
       "</table>\n",
       "</div>"
      ],
      "text/plain": [
       "       Purchase Count  Avg Purchase Price  Total Purchase Value  \\\n",
       "20-24             305                2.96                902.61   \n",
       "15-19             184                2.87                528.74   \n",
       "10-14              78                2.87                224.15   \n",
       "25-29              76                2.89                219.82   \n",
       "30-34              58                3.07                178.26   \n",
       "35-39              44                2.90                127.49   \n",
       "<10                32                3.02                 96.62   \n",
       "40-44               3                2.88                  8.64   \n",
       ">50                 0                 NaN                  0.00   \n",
       "45-49               0                 NaN                  0.00   \n",
       "\n",
       "       Normalized Totals  \n",
       "20-24               3.86  \n",
       "15-19               3.80  \n",
       "10-14               4.15  \n",
       "25-29               4.23  \n",
       "30-34               4.05  \n",
       "35-39               5.10  \n",
       "<10                 4.39  \n",
       "40-44               2.88  \n",
       ">50                  NaN  \n",
       "45-49                NaN  "
      ]
     },
     "execution_count": 35,
     "metadata": {},
     "output_type": "execute_result"
    }
   ],
   "source": [
    "# Normalized totals\n",
    "# count of users in each age group\n",
    "\n",
    "age_final[\"Normalized Totals\"] = age_final[\"Total Purchase Value\"]/age_count[\"Age\"]\n",
    "age_final = age_final.round(2)\n",
    "age_final = age_final.rename(columns={\"Age Groups\":\"Purchase Count\"})\n",
    "age_final"
   ]
  },
  {
   "cell_type": "markdown",
   "metadata": {
    "collapsed": true
   },
   "source": [
    "## Top Spenders"
   ]
  },
  {
   "cell_type": "code",
   "execution_count": 36,
   "metadata": {},
   "outputs": [],
   "source": [
    "#Purchase Counter\n",
    "merged_df[\"Purchase Counter\"] = 1\n",
    "\n",
    "#merged_df.head()"
   ]
  },
  {
   "cell_type": "code",
   "execution_count": 37,
   "metadata": {},
   "outputs": [
    {
     "data": {
      "text/html": [
       "<div>\n",
       "<style scoped>\n",
       "    .dataframe tbody tr th:only-of-type {\n",
       "        vertical-align: middle;\n",
       "    }\n",
       "\n",
       "    .dataframe tbody tr th {\n",
       "        vertical-align: top;\n",
       "    }\n",
       "\n",
       "    .dataframe thead th {\n",
       "        text-align: right;\n",
       "    }\n",
       "</style>\n",
       "<table border=\"1\" class=\"dataframe\">\n",
       "  <thead>\n",
       "    <tr style=\"text-align: right;\">\n",
       "      <th></th>\n",
       "      <th>Price</th>\n",
       "      <th>Purchase Counter</th>\n",
       "    </tr>\n",
       "    <tr>\n",
       "      <th>SN</th>\n",
       "      <th></th>\n",
       "      <th></th>\n",
       "    </tr>\n",
       "  </thead>\n",
       "  <tbody>\n",
       "    <tr>\n",
       "      <th>Undirrala66</th>\n",
       "      <td>17.06</td>\n",
       "      <td>5</td>\n",
       "    </tr>\n",
       "    <tr>\n",
       "      <th>Saedue76</th>\n",
       "      <td>13.56</td>\n",
       "      <td>4</td>\n",
       "    </tr>\n",
       "    <tr>\n",
       "      <th>Mindimnya67</th>\n",
       "      <td>12.74</td>\n",
       "      <td>4</td>\n",
       "    </tr>\n",
       "    <tr>\n",
       "      <th>Haellysu29</th>\n",
       "      <td>12.73</td>\n",
       "      <td>3</td>\n",
       "    </tr>\n",
       "    <tr>\n",
       "      <th>Eoda93</th>\n",
       "      <td>11.58</td>\n",
       "      <td>3</td>\n",
       "    </tr>\n",
       "  </tbody>\n",
       "</table>\n",
       "</div>"
      ],
      "text/plain": [
       "             Price  Purchase Counter\n",
       "SN                                  \n",
       "Undirrala66  17.06                 5\n",
       "Saedue76     13.56                 4\n",
       "Mindimnya67  12.74                 4\n",
       "Haellysu29   12.73                 3\n",
       "Eoda93       11.58                 3"
      ]
     },
     "execution_count": 37,
     "metadata": {},
     "output_type": "execute_result"
    }
   ],
   "source": [
    "# Top Spenders\n",
    "SN_group = merged_df.groupby(\"SN\")\n",
    "top_spenders = pd.DataFrame(SN_group[\"Price\",\"Purchase Counter\"].sum())\n",
    "top_spenders = top_spenders.sort_values(\"Price\", ascending=False)\n",
    "top_spenders = top_spenders.head(5)\n",
    "top_spenders.head(10)\n"
   ]
  },
  {
   "cell_type": "code",
   "execution_count": 38,
   "metadata": {
    "collapsed": true
   },
   "outputs": [],
   "source": [
    "# Avg Purchase Price\n",
    "top_spenders[\"Avg Purchase Price\"] = (top_spenders[\"Price\"]/top_spenders[\"Purchase Counter\"])\n",
    "top_spenders = top_spenders.round(2)"
   ]
  },
  {
   "cell_type": "code",
   "execution_count": 39,
   "metadata": {},
   "outputs": [
    {
     "data": {
      "text/html": [
       "<div>\n",
       "<style scoped>\n",
       "    .dataframe tbody tr th:only-of-type {\n",
       "        vertical-align: middle;\n",
       "    }\n",
       "\n",
       "    .dataframe tbody tr th {\n",
       "        vertical-align: top;\n",
       "    }\n",
       "\n",
       "    .dataframe thead th {\n",
       "        text-align: right;\n",
       "    }\n",
       "</style>\n",
       "<table border=\"1\" class=\"dataframe\">\n",
       "  <thead>\n",
       "    <tr style=\"text-align: right;\">\n",
       "      <th></th>\n",
       "      <th>Total Purchase Value</th>\n",
       "      <th>Puchase Count</th>\n",
       "      <th>Avg Purchase Price</th>\n",
       "    </tr>\n",
       "    <tr>\n",
       "      <th>SN</th>\n",
       "      <th></th>\n",
       "      <th></th>\n",
       "      <th></th>\n",
       "    </tr>\n",
       "  </thead>\n",
       "  <tbody>\n",
       "    <tr>\n",
       "      <th>Undirrala66</th>\n",
       "      <td>17.06</td>\n",
       "      <td>5</td>\n",
       "      <td>3.41</td>\n",
       "    </tr>\n",
       "    <tr>\n",
       "      <th>Saedue76</th>\n",
       "      <td>13.56</td>\n",
       "      <td>4</td>\n",
       "      <td>3.39</td>\n",
       "    </tr>\n",
       "    <tr>\n",
       "      <th>Mindimnya67</th>\n",
       "      <td>12.74</td>\n",
       "      <td>4</td>\n",
       "      <td>3.18</td>\n",
       "    </tr>\n",
       "    <tr>\n",
       "      <th>Haellysu29</th>\n",
       "      <td>12.73</td>\n",
       "      <td>3</td>\n",
       "      <td>4.24</td>\n",
       "    </tr>\n",
       "    <tr>\n",
       "      <th>Eoda93</th>\n",
       "      <td>11.58</td>\n",
       "      <td>3</td>\n",
       "      <td>3.86</td>\n",
       "    </tr>\n",
       "  </tbody>\n",
       "</table>\n",
       "</div>"
      ],
      "text/plain": [
       "             Total Purchase Value  Puchase Count  Avg Purchase Price\n",
       "SN                                                                  \n",
       "Undirrala66                 17.06              5                3.41\n",
       "Saedue76                    13.56              4                3.39\n",
       "Mindimnya67                 12.74              4                3.18\n",
       "Haellysu29                  12.73              3                4.24\n",
       "Eoda93                      11.58              3                3.86"
      ]
     },
     "execution_count": 39,
     "metadata": {},
     "output_type": "execute_result"
    }
   ],
   "source": [
    "top_spenders = top_spenders.rename(columns = {\"Price\":\"Total Purchase Value\", \"Purchase Counter\":\"Puchase Count\"})\n",
    "top_spenders"
   ]
  },
  {
   "cell_type": "markdown",
   "metadata": {
    "collapsed": true
   },
   "source": [
    "## Most Popular Items"
   ]
  },
  {
   "cell_type": "code",
   "execution_count": 40,
   "metadata": {},
   "outputs": [],
   "source": [
    "# Top five items\n",
    "item_group = merged_df.groupby(\"Item ID\")\n",
    "top_items = pd.DataFrame(item_group[\"Purchase Counter\"].sum())\n",
    "top_items = top_items.sort_values(\"Purchase Counter\", ascending=False)\n",
    "top_items = top_items.head(5)\n",
    "\n",
    "#top_items.head(10)"
   ]
  },
  {
   "cell_type": "code",
   "execution_count": 41,
   "metadata": {},
   "outputs": [
    {
     "data": {
      "text/html": [
       "<div>\n",
       "<style scoped>\n",
       "    .dataframe tbody tr th:only-of-type {\n",
       "        vertical-align: middle;\n",
       "    }\n",
       "\n",
       "    .dataframe tbody tr th {\n",
       "        vertical-align: top;\n",
       "    }\n",
       "\n",
       "    .dataframe thead th {\n",
       "        text-align: right;\n",
       "    }\n",
       "</style>\n",
       "<table border=\"1\" class=\"dataframe\">\n",
       "  <thead>\n",
       "    <tr style=\"text-align: right;\">\n",
       "      <th></th>\n",
       "      <th>Purchase Count</th>\n",
       "      <th>Item Price</th>\n",
       "      <th>Item Name</th>\n",
       "      <th>Total Purchase Value</th>\n",
       "    </tr>\n",
       "    <tr>\n",
       "      <th>Item ID</th>\n",
       "      <th></th>\n",
       "      <th></th>\n",
       "      <th></th>\n",
       "      <th></th>\n",
       "    </tr>\n",
       "  </thead>\n",
       "  <tbody>\n",
       "    <tr>\n",
       "      <th>39</th>\n",
       "      <td>11</td>\n",
       "      <td>1.27</td>\n",
       "      <td>Stormfury Mace</td>\n",
       "      <td>13.97</td>\n",
       "    </tr>\n",
       "    <tr>\n",
       "      <th>84</th>\n",
       "      <td>11</td>\n",
       "      <td>4.51</td>\n",
       "      <td>Thorn, Satchel of Dark Souls</td>\n",
       "      <td>49.61</td>\n",
       "    </tr>\n",
       "    <tr>\n",
       "      <th>31</th>\n",
       "      <td>9</td>\n",
       "      <td>1.93</td>\n",
       "      <td>Shadow Strike, Glory of Ending Hope</td>\n",
       "      <td>17.37</td>\n",
       "    </tr>\n",
       "    <tr>\n",
       "      <th>175</th>\n",
       "      <td>9</td>\n",
       "      <td>4.14</td>\n",
       "      <td>Retribution Axe</td>\n",
       "      <td>37.26</td>\n",
       "    </tr>\n",
       "    <tr>\n",
       "      <th>13</th>\n",
       "      <td>9</td>\n",
       "      <td>3.68</td>\n",
       "      <td>Piety, Guardian of Riddles</td>\n",
       "      <td>33.12</td>\n",
       "    </tr>\n",
       "  </tbody>\n",
       "</table>\n",
       "</div>"
      ],
      "text/plain": [
       "         Purchase Count  Item Price                            Item Name  \\\n",
       "Item ID                                                                    \n",
       "39                   11        1.27                       Stormfury Mace   \n",
       "84                   11        4.51         Thorn, Satchel of Dark Souls   \n",
       "31                    9        1.93  Shadow Strike, Glory of Ending Hope   \n",
       "175                   9        4.14                      Retribution Axe   \n",
       "13                    9        3.68           Piety, Guardian of Riddles   \n",
       "\n",
       "         Total Purchase Value  \n",
       "Item ID                        \n",
       "39                      13.97  \n",
       "84                      49.61  \n",
       "31                      17.37  \n",
       "175                     37.26  \n",
       "13                      33.12  "
      ]
     },
     "execution_count": 41,
     "metadata": {},
     "output_type": "execute_result"
    }
   ],
   "source": [
    "top_items[\"Item Price\"] = merged_df[\"Price\"]\n",
    "top_items[\"Item Name\"] = merged_df[\"Item Name\"]\n",
    "top_items[\"Total Purchase Value\"] = top_items[\"Purchase Counter\"] * top_items[\"Item Price\"]\n",
    "top_items = top_items.rename(columns={\"Purchase Counter\":\"Purchase Count\"})\n",
    "top_items"
   ]
  },
  {
   "cell_type": "markdown",
   "metadata": {},
   "source": [
    "## Most Profitable Items"
   ]
  },
  {
   "cell_type": "code",
   "execution_count": 42,
   "metadata": {},
   "outputs": [
    {
     "data": {
      "text/html": [
       "<div>\n",
       "<style scoped>\n",
       "    .dataframe tbody tr th:only-of-type {\n",
       "        vertical-align: middle;\n",
       "    }\n",
       "\n",
       "    .dataframe tbody tr th {\n",
       "        vertical-align: top;\n",
       "    }\n",
       "\n",
       "    .dataframe thead th {\n",
       "        text-align: right;\n",
       "    }\n",
       "</style>\n",
       "<table border=\"1\" class=\"dataframe\">\n",
       "  <thead>\n",
       "    <tr style=\"text-align: right;\">\n",
       "      <th></th>\n",
       "      <th></th>\n",
       "      <th>Total Purchase Value</th>\n",
       "      <th>Item Price</th>\n",
       "      <th>Purchase Count</th>\n",
       "    </tr>\n",
       "    <tr>\n",
       "      <th>Item ID</th>\n",
       "      <th>Item Name</th>\n",
       "      <th></th>\n",
       "      <th></th>\n",
       "      <th></th>\n",
       "    </tr>\n",
       "  </thead>\n",
       "  <tbody>\n",
       "    <tr>\n",
       "      <th>34</th>\n",
       "      <th>Retribution Axe</th>\n",
       "      <td>37.26</td>\n",
       "      <td>4.14</td>\n",
       "      <td>9</td>\n",
       "    </tr>\n",
       "    <tr>\n",
       "      <th>115</th>\n",
       "      <th>Spectral Diamond Doomblade</th>\n",
       "      <td>29.75</td>\n",
       "      <td>4.25</td>\n",
       "      <td>7</td>\n",
       "    </tr>\n",
       "    <tr>\n",
       "      <th>32</th>\n",
       "      <th>Orenmir</th>\n",
       "      <td>29.70</td>\n",
       "      <td>4.95</td>\n",
       "      <td>6</td>\n",
       "    </tr>\n",
       "    <tr>\n",
       "      <th>103</th>\n",
       "      <th>Singed Scalpel</th>\n",
       "      <td>29.22</td>\n",
       "      <td>4.87</td>\n",
       "      <td>6</td>\n",
       "    </tr>\n",
       "    <tr>\n",
       "      <th>107</th>\n",
       "      <th>Splitter, Foe Of Subtlety</th>\n",
       "      <td>28.88</td>\n",
       "      <td>3.61</td>\n",
       "      <td>8</td>\n",
       "    </tr>\n",
       "  </tbody>\n",
       "</table>\n",
       "</div>"
      ],
      "text/plain": [
       "                                    Total Purchase Value  Item Price  \\\n",
       "Item ID Item Name                                                      \n",
       "34      Retribution Axe                            37.26        4.14   \n",
       "115     Spectral Diamond Doomblade                 29.75        4.25   \n",
       "32      Orenmir                                    29.70        4.95   \n",
       "103     Singed Scalpel                             29.22        4.87   \n",
       "107     Splitter, Foe Of Subtlety                  28.88        3.61   \n",
       "\n",
       "                                    Purchase Count  \n",
       "Item ID Item Name                                   \n",
       "34      Retribution Axe                          9  \n",
       "115     Spectral Diamond Doomblade               7  \n",
       "32      Orenmir                                  6  \n",
       "103     Singed Scalpel                           6  \n",
       "107     Splitter, Foe Of Subtlety                8  "
      ]
     },
     "execution_count": 42,
     "metadata": {},
     "output_type": "execute_result"
    }
   ],
   "source": [
    "Price_group = merged_df.groupby([\"Item ID\", \"Item Name\"])\n",
    "top_profit = pd.DataFrame(Price_group[\"Price\"].sum())\n",
    "top_profit[\"Item Price\"] = Price_group[\"Price\"].mean()\n",
    "top_profit[\"Purchase Count\"] = Price_group[\"Purchase Counter\"].sum()\n",
    "top_profit = top_profit.sort_values(\"Price\", ascending=False)\n",
    "top_profit = top_profit.rename(columns={\"Price\":\"Total Purchase Value\"})\n",
    "top_profit = top_profit.head(5)\n",
    "\n",
    "top_profit\n"
   ]
  },
  {
   "cell_type": "code",
   "execution_count": null,
   "metadata": {
    "collapsed": true
   },
   "outputs": [],
   "source": []
  }
 ],
 "metadata": {
  "kernelspec": {
   "display_name": "Python [conda env:PythonData]",
   "language": "python",
   "name": "conda-env-PythonData-py"
  },
  "language_info": {
   "codemirror_mode": {
    "name": "ipython",
    "version": 3
   },
   "file_extension": ".py",
   "mimetype": "text/x-python",
   "name": "python",
   "nbconvert_exporter": "python",
   "pygments_lexer": "ipython3",
   "version": "3.6.3"
  }
 },
 "nbformat": 4,
 "nbformat_minor": 2
}

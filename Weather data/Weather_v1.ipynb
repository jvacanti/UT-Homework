{
 "cells": [
  {
   "cell_type": "code",
   "execution_count": 2,
   "metadata": {
    "collapsed": true
   },
   "outputs": [],
   "source": [
    "# Import dependencies\n",
    "import numpy as np\n",
    "import pandas as pd\n",
    "import matplotlib.pyplot as plt\n",
    "import requests as req\n",
    "import json\n",
    "import random\n",
    "import seaborn as sns\n",
    "import os\n",
    "from citipy import citipy"
   ]
  },
  {
   "cell_type": "code",
   "execution_count": 3,
   "metadata": {},
   "outputs": [
    {
     "data": {
      "text/html": [
       "<div>\n",
       "<style scoped>\n",
       "    .dataframe tbody tr th:only-of-type {\n",
       "        vertical-align: middle;\n",
       "    }\n",
       "\n",
       "    .dataframe tbody tr th {\n",
       "        vertical-align: top;\n",
       "    }\n",
       "\n",
       "    .dataframe thead th {\n",
       "        text-align: right;\n",
       "    }\n",
       "</style>\n",
       "<table border=\"1\" class=\"dataframe\">\n",
       "  <thead>\n",
       "    <tr style=\"text-align: right;\">\n",
       "      <th></th>\n",
       "      <th>coord</th>\n",
       "      <th>country</th>\n",
       "      <th>id</th>\n",
       "      <th>name</th>\n",
       "    </tr>\n",
       "  </thead>\n",
       "  <tbody>\n",
       "    <tr>\n",
       "      <th>8655</th>\n",
       "      <td>{'lon': 43.875381, 'lat': 40.226639}</td>\n",
       "      <td>AM</td>\n",
       "      <td>616769</td>\n",
       "      <td>Dalarik</td>\n",
       "    </tr>\n",
       "    <tr>\n",
       "      <th>193441</th>\n",
       "      <td>{'lon': 17.76458, 'lat': 48.445751}</td>\n",
       "      <td>SK</td>\n",
       "      <td>3059111</td>\n",
       "      <td>Leopoldov</td>\n",
       "    </tr>\n",
       "    <tr>\n",
       "      <th>63422</th>\n",
       "      <td>{'lon': 10.901, 'lat': 50.333401}</td>\n",
       "      <td>DE</td>\n",
       "      <td>6556774</td>\n",
       "      <td>Meeder</td>\n",
       "    </tr>\n",
       "    <tr>\n",
       "      <th>44032</th>\n",
       "      <td>{'lon': 0.33333, 'lat': 46.583328}</td>\n",
       "      <td>FR</td>\n",
       "      <td>2986495</td>\n",
       "      <td>Poitiers</td>\n",
       "    </tr>\n",
       "    <tr>\n",
       "      <th>174967</th>\n",
       "      <td>{'lon': 14.74184, 'lat': 40.922119}</td>\n",
       "      <td>IT</td>\n",
       "      <td>3173555</td>\n",
       "      <td>Mercogliano</td>\n",
       "    </tr>\n",
       "  </tbody>\n",
       "</table>\n",
       "</div>"
      ],
      "text/plain": [
       "                                       coord country       id         name\n",
       "8655    {'lon': 43.875381, 'lat': 40.226639}      AM   616769      Dalarik\n",
       "193441   {'lon': 17.76458, 'lat': 48.445751}      SK  3059111    Leopoldov\n",
       "63422      {'lon': 10.901, 'lat': 50.333401}      DE  6556774       Meeder\n",
       "44032     {'lon': 0.33333, 'lat': 46.583328}      FR  2986495     Poitiers\n",
       "174967   {'lon': 14.74184, 'lat': 40.922119}      IT  3173555  Mercogliano"
      ]
     },
     "execution_count": 3,
     "metadata": {},
     "output_type": "execute_result"
    }
   ],
   "source": [
    "sample_size = 500\n",
    "city_list = os.path.join(\"city.list.json\")\n",
    "sample_list = pd.read_json(city_list)\n",
    "sample_list = pd.DataFrame(sample_list)\n",
    "\n",
    "sample_cities = sample_list.sample(sample_size)\n",
    "\n",
    "sample_cities.head()"
   ]
  },
  {
   "cell_type": "code",
   "execution_count": 4,
   "metadata": {},
   "outputs": [
    {
     "data": {
      "text/plain": [
       "{'base': 'stations',\n",
       " 'clouds': {'all': 0},\n",
       " 'cod': 200,\n",
       " 'coord': {'lat': 40.23, 'lon': 43.88},\n",
       " 'dt': 1519693200,\n",
       " 'id': 616769,\n",
       " 'main': {'humidity': 86,\n",
       "  'pressure': 1011,\n",
       "  'temp': -2.63,\n",
       "  'temp_max': 1,\n",
       "  'temp_min': -6},\n",
       " 'name': 'Dalarik',\n",
       " 'sys': {'country': 'AM',\n",
       "  'id': 7226,\n",
       "  'message': 0.004,\n",
       "  'sunrise': 1519702881,\n",
       "  'sunset': 1519743218,\n",
       "  'type': 1},\n",
       " 'visibility': 10000,\n",
       " 'weather': [{'description': 'clear sky',\n",
       "   'icon': '01n',\n",
       "   'id': 800,\n",
       "   'main': 'Clear'}],\n",
       " 'wind': {'speed': 0.5}}"
      ]
     },
     "execution_count": 4,
     "metadata": {},
     "output_type": "execute_result"
    }
   ],
   "source": [
    "api_key = \"09b5e513d610e151dcad61efd3016f9f\"\n",
    "url = \"http://api.openweathermap.org/data/2.5/weather?\"\n",
    "units = \"metric\"\n",
    "\n",
    "\n",
    "weather_data = []\n",
    "cityIDs = sample_cities[\"id\"].tolist()\n",
    "query_url = url + \"appid=\" + api_key + \"&units=\" + units + \"&id=\"\n",
    "\n",
    "\n",
    "for ID in cityIDs:\n",
    "    weather_data.append(req.get(query_url + str(ID)).json())\n",
    "\n",
    "weather_data[0]\n",
    "\n",
    "# http://api.openweathermap.org/data/2.5/group?id=524901,703448,2643743&units=metric"
   ]
  },
  {
   "cell_type": "code",
   "execution_count": 11,
   "metadata": {},
   "outputs": [
    {
     "data": {
      "text/html": [
       "<div>\n",
       "<style scoped>\n",
       "    .dataframe tbody tr th:only-of-type {\n",
       "        vertical-align: middle;\n",
       "    }\n",
       "\n",
       "    .dataframe tbody tr th {\n",
       "        vertical-align: top;\n",
       "    }\n",
       "\n",
       "    .dataframe thead th {\n",
       "        text-align: right;\n",
       "    }\n",
       "</style>\n",
       "<table border=\"1\" class=\"dataframe\">\n",
       "  <thead>\n",
       "    <tr style=\"text-align: right;\">\n",
       "      <th></th>\n",
       "      <th>Cloudiness</th>\n",
       "      <th>Humidity</th>\n",
       "      <th>Latitude</th>\n",
       "      <th>Temperature</th>\n",
       "      <th>Wind Speed</th>\n",
       "    </tr>\n",
       "  </thead>\n",
       "  <tbody>\n",
       "    <tr>\n",
       "      <th>0</th>\n",
       "      <td>0</td>\n",
       "      <td>86</td>\n",
       "      <td>40.23</td>\n",
       "      <td>1.00</td>\n",
       "      <td>0.50</td>\n",
       "    </tr>\n",
       "    <tr>\n",
       "      <th>1</th>\n",
       "      <td>76</td>\n",
       "      <td>56</td>\n",
       "      <td>48.45</td>\n",
       "      <td>-9.00</td>\n",
       "      <td>8.20</td>\n",
       "    </tr>\n",
       "    <tr>\n",
       "      <th>2</th>\n",
       "      <td>0</td>\n",
       "      <td>62</td>\n",
       "      <td>50.33</td>\n",
       "      <td>-15.95</td>\n",
       "      <td>3.36</td>\n",
       "    </tr>\n",
       "    <tr>\n",
       "      <th>3</th>\n",
       "      <td>0</td>\n",
       "      <td>62</td>\n",
       "      <td>46.58</td>\n",
       "      <td>-6.00</td>\n",
       "      <td>5.10</td>\n",
       "    </tr>\n",
       "    <tr>\n",
       "      <th>4</th>\n",
       "      <td>90</td>\n",
       "      <td>85</td>\n",
       "      <td>40.92</td>\n",
       "      <td>4.00</td>\n",
       "      <td>6.20</td>\n",
       "    </tr>\n",
       "  </tbody>\n",
       "</table>\n",
       "</div>"
      ],
      "text/plain": [
       "   Cloudiness  Humidity  Latitude  Temperature  Wind Speed\n",
       "0           0        86     40.23         1.00        0.50\n",
       "1          76        56     48.45        -9.00        8.20\n",
       "2           0        62     50.33       -15.95        3.36\n",
       "3           0        62     46.58        -6.00        5.10\n",
       "4          90        85     40.92         4.00        6.20"
      ]
     },
     "execution_count": 11,
     "metadata": {},
     "output_type": "execute_result"
    }
   ],
   "source": [
    "#Get temperature and latitude date\n",
    "temp_data = [data.get(\"main\").get(\"temp_max\") for data in weather_data]\n",
    "lat_data = [data.get(\"coord\").get(\"lat\") for data in weather_data]\n",
    "humid_data = [data.get(\"main\").get(\"humidity\") for data in weather_data]\n",
    "cloudy_data = [data.get(\"clouds\").get(\"all\") for data in weather_data]\n",
    "wind_data = [data.get(\"wind\").get(\"speed\") for data in weather_data]\n",
    "\n",
    "plot_data = {\"Temperature\": temp_data, \"Latitude\": lat_data, \"Humidity\": humid_data, \"Cloudiness\": cloudy_data, \"Wind Speed\": wind_data}\n",
    "plot_data_df = pd.DataFrame(plot_data)\n",
    "plot_data_df.head()"
   ]
  },
  {
   "cell_type": "markdown",
   "metadata": {},
   "source": [
    "### Tempurature (C) vs. Latitude"
   ]
  },
  {
   "cell_type": "code",
   "execution_count": 12,
   "metadata": {},
   "outputs": [
    {
     "data": {
      "image/png": "[encoded data removed]",
      "text/plain": [
       "<matplotlib.figure.Figure at 0x10f130588>"
      ]
     },
     "metadata": {},
     "output_type": "display_data"
    }
   ],
   "source": [
    "# Build scatter plot\n",
    "plt.scatter(plot_data_df[\"Latitude\"], plot_data_df[\"Temperature\"], marker=\"o\")\n",
    "\n",
    "# Incorporate the other graph properties\n",
    "plt.title(\"City Latitude vs. Max Temperature\")\n",
    "plt.ylabel(\"Tempurature (Celsius)\")\n",
    "plt.xlabel(\"Latitude\")\n",
    "plt.grid(True)\n",
    "\n",
    "# Save the figure\n",
    "plt.savefig(\"Lat_v_Temp.png\")\n",
    "\n",
    "# Show plot\n",
    "plt.show()"
   ]
  },
  {
   "cell_type": "markdown",
   "metadata": {},
   "source": [
    "### Humidity (%) vs. Latitude"
   ]
  },
  {
   "cell_type": "code",
   "execution_count": 13,
   "metadata": {},
   "outputs": [
    {
     "data": {
      "image/png": "[encoded data removed]",
      "text/plain": [
       "<matplotlib.figure.Figure at 0x10f17fac8>"
      ]
     },
     "metadata": {},
     "output_type": "display_data"
    }
   ],
   "source": [
    "plt.scatter(plot_data_df[\"Latitude\"], plot_data_df[\"Humidity\"], marker=\"o\")\n",
    "\n",
    "# Incorporate the other graph properties\n",
    "plt.title(\"City Latitude vs. Humidity(%)\")\n",
    "plt.ylabel(\"Humidity (%)\")\n",
    "plt.xlabel(\"Latitude\")\n",
    "plt.grid(True)\n",
    "\n",
    "# Save the figure\n",
    "plt.savefig(\"Lat_v_Humidity.png\")\n",
    "\n",
    "# Show plot\n",
    "plt.show()"
   ]
  },
  {
   "cell_type": "markdown",
   "metadata": {},
   "source": [
    "### Latitude vs. Cloudiness Plot"
   ]
  },
  {
   "cell_type": "code",
   "execution_count": 14,
   "metadata": {},
   "outputs": [
    {
     "data": {
      "image/png": "[encoded data removed]",
      "text/plain": [
       "<matplotlib.figure.Figure at 0x10f1b6438>"
      ]
     },
     "metadata": {},
     "output_type": "display_data"
    }
   ],
   "source": [
    "plt.scatter(plot_data_df[\"Latitude\"], plot_data_df[\"Cloudiness\"], marker=\"o\")\n",
    "\n",
    "# Incorporate the other graph properties\n",
    "plt.title(\"City Latitude vs. Cloudiness (%)\")\n",
    "plt.ylabel(\"Cloudiness (%)\")\n",
    "plt.xlabel(\"Latitude\")\n",
    "plt.grid(True)\n",
    "\n",
    "# Save the figure\n",
    "plt.savefig(\"Lat_v_Cloud.png\")\n",
    "\n",
    "# Show plot\n",
    "plt.show()"
   ]
  },
  {
   "cell_type": "markdown",
   "metadata": {},
   "source": [
    "### Latitude vs. Wind Speed"
   ]
  },
  {
   "cell_type": "code",
   "execution_count": 15,
   "metadata": {},
   "outputs": [
    {
     "data": {
      "image/png": "[encoded data removed]",
      "text/plain": [
       "<matplotlib.figure.Figure at 0x10f1debe0>"
      ]
     },
     "metadata": {},
     "output_type": "display_data"
    }
   ],
   "source": [
    "plt.scatter(plot_data_df[\"Latitude\"], plot_data_df[\"Wind Speed\"], marker=\"o\")\n",
    "\n",
    "# Incorporate the other graph properties\n",
    "plt.title(\"City Latitude vs. Wind Speed\")\n",
    "plt.ylabel(\"Wind Speed\")\n",
    "plt.xlabel(\"Latitude\")\n",
    "plt.grid(True)\n",
    "\n",
    "# Save the figure\n",
    "plt.savefig(\"Lat_v_Temp.png\")\n",
    "\n",
    "# Show plot\n",
    "plt.show()"
   ]
  },
  {
   "cell_type": "code",
   "execution_count": null,
   "metadata": {
    "collapsed": true
   },
   "outputs": [],
   "source": []
  },
  {
   "cell_type": "code",
   "execution_count": null,
   "metadata": {
    "collapsed": true
   },
   "outputs": [],
   "source": []
  }
 ],
 "metadata": {
  "kernelspec": {
   "display_name": "Python [conda env:PythonData]",
   "language": "python",
   "name": "conda-env-PythonData-py"
  },
  "language_info": {
   "codemirror_mode": {
    "name": "ipython",
    "version": 3
   },
   "file_extension": ".py",
   "mimetype": "text/x-python",
   "name": "python",
   "nbconvert_exporter": "python",
   "pygments_lexer": "ipython3",
   "version": "3.6.3"
  }
 },
 "nbformat": 4,
 "nbformat_minor": 2
}

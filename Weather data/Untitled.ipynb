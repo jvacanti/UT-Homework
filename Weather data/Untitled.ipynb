{
 "cells": [
  {
   "cell_type": "code",
   "execution_count": 1,
   "metadata": {},
   "outputs": [
    {
     "name": "stdout",
     "output_type": "stream",
     "text": [
      "{\n",
      "    \"details\": \"SpaceX west coast landing pad, has not yet been used. Expected to first be used during the Formosat-5 launch.\",\n",
      "    \"full_name\": \"Vandenberg Air Force Base Space Launch Complex 4W\",\n",
      "    \"id\": \"vafb_slc_4w\",\n",
      "    \"location\": {\n",
      "        \"latitude\": 34.6332043,\n",
      "        \"longitude\": -120.6156234,\n",
      "        \"name\": \"Vandenberg Air Force Base\",\n",
      "        \"region\": \"California\"\n",
      "    },\n",
      "    \"status\": \"active\",\n",
      "    \"vehicles_launched\": [\n",
      "        \"Falcon 9\"\n",
      "    ]\n",
      "}\n"
     ]
    }
   ],
   "source": [
    "# Dependencies\n",
    "import requests as req\n",
    "import json\n",
    "\n",
    "# URL for GET requests to retrieve vehicle data\n",
    "url = \"https://api.spacexdata.com/v2/launchpads/\"\n",
    "\n",
    "# Pretty print JSON for all launchpads\n",
    "# response = req.get(url).json()\n",
    "# print(json.dumps(response, indent=4, sort_keys=True))\n",
    "\n",
    "# Pretty print JSON for a specific launchpad\n",
    "response = req.get(url + \"vafb_slc_4w\").json()\n",
    "print(json.dumps(response, indent=4, sort_keys=True))"
   ]
  },
  {
   "cell_type": "code",
   "execution_count": null,
   "metadata": {
    "collapsed": true
   },
   "outputs": [],
   "source": []
  }
 ],
 "metadata": {
  "kernelspec": {
   "display_name": "Python [conda env:PythonData]",
   "language": "python",
   "name": "conda-env-PythonData-py"
  },
  "language_info": {
   "codemirror_mode": {
    "name": "ipython",
    "version": 3
   },
   "file_extension": ".py",
   "mimetype": "text/x-python",
   "name": "python",
   "nbconvert_exporter": "python",
   "pygments_lexer": "ipython3",
   "version": "3.6.3"
  }
 },
 "nbformat": 4,
 "nbformat_minor": 2
}
